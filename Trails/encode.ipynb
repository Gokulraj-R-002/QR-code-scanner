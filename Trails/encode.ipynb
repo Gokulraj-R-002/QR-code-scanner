{
 "cells": [
  {
   "attachments": {},
   "cell_type": "markdown",
   "metadata": {},
   "source": [
    "F_11   (n,k)-> (9,7) "
   ]
  },
  {
   "cell_type": "code",
   "execution_count": 9,
   "metadata": {},
   "outputs": [
    {
     "name": "stdout",
     "output_type": "stream",
     "text": [
      "[6, 2, 5, 5, 7, 5, 6]\n",
      "[10, 3, 7, 6, 6, 6, 10, 7, 7]\n",
      "['010', '1010', '0011', '0111', '0110', '0110', '0110', '1010', '0111', '0111']\n",
      "010101000110111011001100110101001110111\n"
     ]
    }
   ],
   "source": [
    "import numpy as np\n",
    "import random\n",
    "\n",
    "F = 11\n",
    "n = 9\n",
    "k = 7\n",
    "\n",
    "M = \"Seshu12\"\n",
    "\n",
    "m = [ord(i)%F for i in M]\n",
    "print(m)\n",
    "random_list = []\n",
    "for i in range(0, n):\n",
    "    random_list.append(random.randint(0, F))\n",
    "# random_list\n",
    "\n",
    "E = []\n",
    "\n",
    "for i in random_list:\n",
    "    x = 0\n",
    "    for j in range (len(m)):\n",
    "        x = x + m[j]*pow(i,j) \n",
    "    E = E + [x%F]\n",
    "print(E)\n",
    "E_m = []\n",
    "E_m.append('010')\n",
    "for i in E:\n",
    "    E_m.append(bin(i)[2:].zfill(4))\n",
    "print(E_m)\n",
    "encoded_msg = \"\".join(E_m)\n",
    "print(encoded_msg)\n"
   ]
  },
  {
   "cell_type": "code",
   "execution_count": 13,
   "metadata": {},
   "outputs": [],
   "source": [
    "from PIL import Image, ImageDraw\n",
    "w,h = len(encoded_msg),100\n",
    "img = Image.new(\"RGB\",(w,h),\"white\")\n",
    "draw = ImageDraw.Draw(img)\n",
    "for i,b in enumerate(encoded_msg):\n",
    "    x0,y0 = i,0\n",
    "    x1,y1 = i+1,h \n",
    "    if b == \"1\":\n",
    "        draw.rectangle([x0,y0,x1,y1],fill = \"black\")\n",
    "    else :\n",
    "        draw.rectangle([x0,y0,x1,y1],fill = \"white\")\n",
    "img.show(draw)\n",
    "# img.save(draw)\n"
   ]
  },
  {
   "cell_type": "code",
   "execution_count": 6,
   "metadata": {},
   "outputs": [
    {
     "name": "stdout",
     "output_type": "stream",
     "text": [
      "000010100110001001011010010000100110\n",
      "36\n",
      "[['0', '0', '0', '0'], ['1', '0', '1', '0'], ['0', '1', '1', '0'], ['0', '0', '1', '0'], ['0', '1', '0', '1'], ['1', '0', '1', '0'], ['0', '1', '0', '0'], ['0', '0', '1', '0'], ['0', '1', '1', '0']]\n"
     ]
    }
   ],
   "source": [
    "l = len(encoded_msg) \n",
    "R_m = encoded_msg[3:l]\n",
    "print(R_m)\n",
    "l = int(len(R_m)/4)\n",
    "print(len(R_m))\n",
    "# R_Msg = []\n",
    "R_Msg =  [[0 for _ in range(4)] for _ in range(l)]\n",
    "a = 0\n",
    "for i in range (l):\n",
    "    R_Msg[i][0:4] = R_m[a:a+4]\n",
    "    # print(R_Msg[i][0:4])\n",
    "    a = a+4\n",
    "print(R_Msg)\n"
   ]
  }
 ],
 "metadata": {
  "kernelspec": {
   "display_name": "Python 3",
   "language": "python",
   "name": "python3"
  },
  "language_info": {
   "codemirror_mode": {
    "name": "ipython",
    "version": 3
   },
   "file_extension": ".py",
   "mimetype": "text/x-python",
   "name": "python",
   "nbconvert_exporter": "python",
   "pygments_lexer": "ipython3",
   "version": "3.10.6"
  },
  "orig_nbformat": 4,
  "vscode": {
   "interpreter": {
    "hash": "383ad3e73e343fb833a8dee443ca1608810a6d6042cca4c336ef7bd57e83de21"
   }
  }
 },
 "nbformat": 4,
 "nbformat_minor": 2
}
