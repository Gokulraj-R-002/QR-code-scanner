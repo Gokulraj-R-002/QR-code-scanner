{
 "cells": [
  {
   "attachments": {},
   "cell_type": "markdown",
   "metadata": {},
   "source": [
    "### Imports"
   ]
  },
  {
   "cell_type": "code",
   "execution_count": 349,
   "metadata": {},
   "outputs": [],
   "source": [
    "import numpy as np\n",
    "from PIL import Image, ImageDraw"
   ]
  },
  {
   "attachments": {},
   "cell_type": "markdown",
   "metadata": {},
   "source": [
    "### Galois Field Math"
   ]
  },
  {
   "cell_type": "code",
   "execution_count": 350,
   "metadata": {},
   "outputs": [],
   "source": [
    "def GF_add(a, b, F):\n",
    "    return (a + b) % F\n",
    "\n",
    "def GF_sub(a, b, F):\n",
    "    return (a - b) % F\n",
    "\n",
    "def GF_mul(a, b, F):\n",
    "    return (a * b) % F\n",
    "\n",
    "def GF_div(a, b, F):\n",
    "    return (a * b ** (F - 2)) % F\n",
    "\n",
    "def GF_pow(a, b, F):\n",
    "    return (a ** b) % F\n",
    "\n",
    "def GF_eval(p, x, F):\n",
    "    y = 0\n",
    "    for i in range(len(p)):\n",
    "        y = GF_add(y, GF_mul(p[i], GF_pow(x, i, F), F), F)\n",
    "    return y"
   ]
  },
  {
   "attachments": {},
   "cell_type": "markdown",
   "metadata": {},
   "source": [
    "### Encoding a message vector using Reed-Solomon codes"
   ]
  },
  {
   "attachments": {},
   "cell_type": "markdown",
   "metadata": {},
   "source": [
    "#### Code parameters"
   ]
  },
  {
   "cell_type": "code",
   "execution_count": 351,
   "metadata": {},
   "outputs": [
    {
     "name": "stdout",
     "output_type": "stream",
     "text": [
      "Evaluation points:  [ 0  1  2  3  4  5  6  7  8  9 10]\n"
     ]
    }
   ],
   "source": [
    "F = 11 # Galois Field F11\n",
    "n = 11 # Size of codeword (the encoded message)\n",
    "k = 7 # Size of message (the original message)\n",
    "t = 2 # Error correction capability\n",
    "\n",
    "eval_points = np.arange(0, F) # Evaluation points\n",
    "print(\"Evaluation points: \", eval_points)"
   ]
  },
  {
   "cell_type": "code",
   "execution_count": 385,
   "metadata": {},
   "outputs": [
    {
     "name": "stdout",
     "output_type": "stream",
     "text": [
      "Message 1:  [ 2 10  3  7  5  1  9]\n",
      "Message 2:  [7 2 9 4 3 0 1]\n",
      "Message 3:  [ 3  5  8  2  5 10  9]\n"
     ]
    }
   ],
   "source": [
    "msg1 = np.array([2, 10, 3, 7, 5, 1, 9])\n",
    "print(\"Message 1: \", msg1)\n",
    "\n",
    "msg2 = np.array([7, 2, 9, 4, 3, 0, 1])\n",
    "print(\"Message 2: \", msg2)\n",
    "\n",
    "msg3 = np.array([3, 5, 8, 2, 5, 10, 9])\n",
    "print(\"Message 3: \", msg3)"
   ]
  },
  {
   "cell_type": "code",
   "execution_count": 363,
   "metadata": {},
   "outputs": [],
   "source": [
    "def encode(msg, eval_points):\n",
    "    encoded_msg = np.zeros(n)\n",
    "    for i in range(n):\n",
    "        x = eval_points[i]\n",
    "        for j in range(k):\n",
    "            encoded_msg[i] += msg[j] * x**j\n",
    "        encoded_msg %= F\n",
    "        # encoded_msg[i] = (msg[0] + msg[1] * x + msg[2] * x**2 + msg[3] * pow(x, 3) + msg[4] * pow(x, 4)) % F\n",
    "\n",
    "    return encoded_msg.astype(int)"
   ]
  },
  {
   "cell_type": "code",
   "execution_count": 354,
   "metadata": {},
   "outputs": [],
   "source": [
    "def print_encoded_msg_binary(encoded_msg):\n",
    "    bin_msg = []\n",
    "    bin_msg.append(\"010\")\n",
    "    for i in range(n):\n",
    "        bin_msg.append('{0:04b}'.format(int(encoded_msg[i])))\n",
    "    bin_msg = np.array(bin_msg)\n",
    "    print(bin_msg)\n",
    "\n",
    "    binary_string = \"\".join(bin_msg)\n",
    "    print(binary_string)\n",
    "\n",
    "    return binary_string"
   ]
  },
  {
   "cell_type": "code",
   "execution_count": 386,
   "metadata": {},
   "outputs": [
    {
     "name": "stdout",
     "output_type": "stream",
     "text": [
      "Encoded Message 1:  [ 2  4  8 10  7  4  0  8 10  1  1]\n",
      "['010' '0010' '0100' '1000' '1010' '0111' '0100' '0000' '1000' '1010'\n",
      " '0001' '0001']\n",
      "01000100100100010100111010000001000101000010001\n",
      "\n",
      "Encoded Message 2:  [ 7  4  4  8 10  4  7 10  0  9  3]\n",
      "['010' '0111' '0100' '0100' '1000' '1010' '0100' '0111' '1010' '0000'\n",
      " '1001' '0011']\n",
      "01001110100010010001010010001111010000010010011\n",
      "\n",
      "Encoded Message 3:  [ 3  9  3  3 10  6  8  2 10  4  8]\n",
      "['010' '0011' '1001' '0011' '0011' '1010' '0110' '1000' '0010' '1010'\n",
      " '0100' '1000']\n",
      "01000111001001100111010011010000010101001001000\n"
     ]
    }
   ],
   "source": [
    "encoded_msg1 = encode(msg1, eval_points)\n",
    "print(\"Encoded Message 1: \", encoded_msg1)\n",
    "binary_string1 = print_encoded_msg_binary(encoded_msg1)\n",
    "\n",
    "encoded_msg2 = encode(msg2, eval_points)\n",
    "print(\"\\nEncoded Message 2: \", encoded_msg2)\n",
    "binary_string2 = print_encoded_msg_binary(encoded_msg2)\n",
    "\n",
    "encoded_msg3 = encode(msg3, eval_points)\n",
    "print(\"\\nEncoded Message 3: \", encoded_msg3)\n",
    "binary_string3 = print_encoded_msg_binary(encoded_msg3)"
   ]
  },
  {
   "cell_type": "code",
   "execution_count": 356,
   "metadata": {},
   "outputs": [],
   "source": [
    "width, height = len(binary_string1), 100\n",
    "img = Image.new(\"RGB\", (width, height), \"white\")\n",
    "\n",
    "draw = ImageDraw.Draw(img)\n",
    "for i, b in enumerate(binary_string1):\n",
    "    x0, y0 = i, 0\n",
    "    x1, y1 = i + 1, height\n",
    "    if b == \"1\":\n",
    "        draw.rectangle([x0, y0, x1, y1], fill=\"black\")\n",
    "    else:\n",
    "        draw.rectangle([x0, y0, x1, y1], fill=\"white\")\n",
    "\n",
    "img.save(\"bar_code1.png\")\n",
    "\n",
    "width, height = len(binary_string2), 100\n",
    "img = Image.new(\"RGB\", (width, height), \"white\")\n",
    "\n",
    "draw = ImageDraw.Draw(img)\n",
    "for i, b in enumerate(binary_string2):\n",
    "    x0, y0 = i, 0\n",
    "    x1, y1 = i + 1, height\n",
    "    if b == \"1\":\n",
    "        draw.rectangle([x0, y0, x1, y1], fill=\"black\")\n",
    "    else:\n",
    "        draw.rectangle([x0, y0, x1, y1], fill=\"white\")\n",
    "\n",
    "img.save(\"bar_code2.png\")\n",
    "\n",
    "width, height = len(binary_string3), 100\n",
    "img = Image.new(\"RGB\", (width, height), \"white\")\n",
    "\n",
    "draw = ImageDraw.Draw(img)\n",
    "for i, b in enumerate(binary_string3):\n",
    "    x0, y0 = i, 0\n",
    "    x1, y1 = i + 1, height\n",
    "    if b == \"1\":\n",
    "        draw.rectangle([x0, y0, x1, y1], fill=\"black\")\n",
    "    else:\n",
    "        draw.rectangle([x0, y0, x1, y1], fill=\"white\")\n",
    "\n",
    "img.save(\"bar_code3.png\")"
   ]
  },
  {
   "attachments": {},
   "cell_type": "markdown",
   "metadata": {},
   "source": [
    "### Introducing errors"
   ]
  },
  {
   "cell_type": "code",
   "execution_count": 404,
   "metadata": {},
   "outputs": [
    {
     "name": "stdout",
     "output_type": "stream",
     "text": [
      "[ 2  4  8 10  7  4  0  8 10  1  1]\n",
      "[ 2  4  8 10  7  1  0  8 10  1  1]\n"
     ]
    }
   ],
   "source": [
    "received_vector = encoded_msg1.copy()\n",
    "# received_vector[1] = 1\n",
    "# received_vector[2] = 2\n",
    "pos = 1\n",
    "received_vector[5] = GF_add(received_vector[5], 8, F)\n",
    "# received_vector[10] = GF_add(received_vector[10], 2, F)\n",
    "print(encoded_msg1)\n",
    "print(received_vector)"
   ]
  },
  {
   "cell_type": "code",
   "execution_count": 412,
   "metadata": {},
   "outputs": [
    {
     "data": {
      "text/plain": [
       "array([ 2,  4,  8, 10,  7,  5,  0,  8, 10,  1,  1])"
      ]
     },
     "execution_count": 412,
     "metadata": {},
     "output_type": "execute_result"
    }
   ],
   "source": [
    "binary_rec_vector = ['0010', '0100', '1000', '1010', '0111', '0101', '0000', '1000', '1010', '0001', '0001']\n",
    "\n",
    "received_vector = np.array([int(binary_rec_vector[i], 2) for i in range(len(binary_rec_vector))])\n",
    "received_vector"
   ]
  },
  {
   "attachments": {},
   "cell_type": "markdown",
   "metadata": {},
   "source": [
    "#### Syndrome calculation\n",
    "* To find syndrome, we first find $H$ (the parity check matrix) and then multiply it with the received vector $r$."
   ]
  },
  {
   "cell_type": "code",
   "execution_count": 405,
   "metadata": {},
   "outputs": [
    {
     "name": "stdout",
     "output_type": "stream",
     "text": [
      "G:  [[ 1  1  1  1  1  1  1  1  1  1  1]\n",
      " [ 0  1  2  3  4  5  6  7  8  9 10]\n",
      " [ 0  1  4  9  5  3  3  5  9  4  1]\n",
      " [ 0  1  8  5  9  4  7  2  6  3 10]\n",
      " [ 0  1  5  4  3  9  9  3  4  5  1]\n",
      " [ 0  1 10  1  1  1 10 10 10  1 10]\n",
      " [ 0  1  9  3  4  5  5  4  3  9  1]]\n"
     ]
    }
   ],
   "source": [
    "# generator matrix\n",
    "G =[]\n",
    "for point in eval_points:\n",
    "    G.append(np.array([GF_pow(point, i, F) for i in range(k)]))\n",
    "G = np.array(G)\n",
    "G = G.T\n",
    "print(\"G: \", G)"
   ]
  },
  {
   "cell_type": "code",
   "execution_count": 368,
   "metadata": {},
   "outputs": [
    {
     "name": "stdout",
     "output_type": "stream",
     "text": [
      "H:  [[ 1  1  1  1  1  1  1  1  1  1  1]\n",
      " [ 0  1  2  3  4  5  6  7  8  9 10]\n",
      " [ 0  1  4  9  5  3  3  5  9  4  1]\n",
      " [ 0  1  8  5  9  4  7  2  6  3 10]]\n"
     ]
    }
   ],
   "source": [
    "# parity check matrix\n",
    "H = []\n",
    "for point in eval_points:   \n",
    "    H.append(np.array([GF_pow(point, i, F) for i in range(n-k)]))\n",
    "H = np.array(H)\n",
    "H = H.T\n",
    "print(\"H: \", H)"
   ]
  },
  {
   "cell_type": "code",
   "execution_count": 369,
   "metadata": {},
   "outputs": [
    {
     "data": {
      "text/plain": [
       "array([[0, 0, 0, 0],\n",
       "       [0, 0, 0, 0],\n",
       "       [0, 0, 0, 0],\n",
       "       [0, 0, 0, 0],\n",
       "       [0, 0, 0, 0],\n",
       "       [0, 0, 0, 0],\n",
       "       [0, 0, 0, 0]])"
      ]
     },
     "execution_count": 369,
     "metadata": {},
     "output_type": "execute_result"
    }
   ],
   "source": [
    "# veryfying if G * H.T = 0\n",
    "np.dot(G, H.T) % F"
   ]
  },
  {
   "cell_type": "code",
   "execution_count": 413,
   "metadata": {},
   "outputs": [
    {
     "name": "stdout",
     "output_type": "stream",
     "text": [
      "Syndromes:  [1 5 3 4]\n"
     ]
    }
   ],
   "source": [
    "# syndrome calculation\n",
    "syndromes = np.dot(received_vector, H.T) % F\n",
    "print(\"Syndromes: \", syndromes)"
   ]
  },
  {
   "attachments": {},
   "cell_type": "markdown",
   "metadata": {},
   "source": [
    "#### Berlekamp-Massey algorithm to find error locator polynomial"
   ]
  },
  {
   "cell_type": "code",
   "execution_count": 371,
   "metadata": {},
   "outputs": [],
   "source": [
    "def find_error_locator(syndromes, eval_points):\n",
    "    l = 0\n",
    "    r = 0\n",
    "    L = np.array([1])\n",
    "    R = [1]\n",
    "\n",
    "    while r < 2*t:\n",
    "        r += 1\n",
    "        desc = 0\n",
    "        for i in range(l + 1):\n",
    "            if len(L) < l+1:\n",
    "                L = np.append(L, np.zeros(l+1 - len(L)))\n",
    "            desc = GF_add(desc, GF_mul(L[i], syndromes[r-i-1], F), F)\n",
    "\n",
    "        if desc == 0:\n",
    "            continue\n",
    "        else:\n",
    "            if isinstance(R, np.ndarray):\n",
    "                R = R.tolist()\n",
    "            L_new = [0] + R\n",
    "            L_new = desc * np.array(L_new)\n",
    "\n",
    "            if len(L_new) > len(L):\n",
    "                L = np.append(L, np.zeros(len(L_new) - len(L)))\n",
    "            else:\n",
    "                L_new = np.append(L_new, np.zeros(len(L) - len(L_new)))\n",
    "\n",
    "            L_old = L\n",
    "            L = GF_sub(L, L_new, F).astype(int)\n",
    "\n",
    "            if 2*l <= r-1:\n",
    "                l = r - l\n",
    "                R = GF_div(L_old, desc, F).astype(int)\n",
    "            else:\n",
    "                R = [0] + R\n",
    "\n",
    "    return L"
   ]
  },
  {
   "cell_type": "code",
   "execution_count": 414,
   "metadata": {},
   "outputs": [
    {
     "name": "stdout",
     "output_type": "stream",
     "text": [
      "Error locator:  [1 6 0]\n"
     ]
    }
   ],
   "source": [
    "error_locator = find_error_locator(syndromes, eval_points)\n",
    "print(\"Error locator: \", error_locator)"
   ]
  },
  {
   "attachments": {},
   "cell_type": "markdown",
   "metadata": {},
   "source": [
    "#### Chien search to find error positions\n",
    "* This finds the roots of the error locator polynomial, which are the error positions."
   ]
  },
  {
   "cell_type": "code",
   "execution_count": 373,
   "metadata": {},
   "outputs": [],
   "source": [
    "def find_error_positions(error_locator, eval_points):\n",
    "    error_positions = []\n",
    "    for i in range(len(eval_points)):\n",
    "        if GF_eval(error_locator, eval_points[i], F) == 0:\n",
    "            error_positions.append(i)\n",
    "    error_positions = np.array(error_positions)\n",
    "    return error_positions"
   ]
  },
  {
   "cell_type": "code",
   "execution_count": 415,
   "metadata": {},
   "outputs": [
    {
     "name": "stdout",
     "output_type": "stream",
     "text": [
      "Error positions:  [9]\n"
     ]
    }
   ],
   "source": [
    "error_positions = find_error_positions(error_locator, eval_points)\n",
    "print(\"Error positions: \", error_positions)"
   ]
  },
  {
   "attachments": {},
   "cell_type": "markdown",
   "metadata": {},
   "source": [
    "#### Error evaluator polynomial"
   ]
  },
  {
   "cell_type": "code",
   "execution_count": 375,
   "metadata": {},
   "outputs": [],
   "source": [
    "def find_error_evaluator(error_locator, syndromes):\n",
    "    L = error_locator\n",
    "\n",
    "    error_evaluator = np.zeros(len(L) + len(syndromes) - 1)\n",
    "    for i in range(len(L)):\n",
    "        for j in range(len(syndromes)):\n",
    "            error_evaluator[i+j] = GF_add(error_evaluator[i+j], GF_mul(L[i], syndromes[j], F), F)\n",
    "\n",
    "    error_evaluator = error_evaluator[:2*t].astype(int)\n",
    "    return error_evaluator"
   ]
  },
  {
   "cell_type": "code",
   "execution_count": 416,
   "metadata": {},
   "outputs": [
    {
     "name": "stdout",
     "output_type": "stream",
     "text": [
      "Error evaluator:  [1 0 0 0]\n"
     ]
    }
   ],
   "source": [
    "error_evaluator = find_error_evaluator(error_locator, syndromes)\n",
    "print(\"Error evaluator: \", error_evaluator)"
   ]
  },
  {
   "attachments": {},
   "cell_type": "markdown",
   "metadata": {},
   "source": [
    "#### Forney algorithm to find error values\n",
    "* This finds the error values at the error positions.\n",
    "* Error positions are: $e_{k_j} = \\frac{-1}{x_j}\\frac{\\Omega(x_j)}{\\Lambda'(x_j)}$, where $x_j$ are the error positions, $\\Omega(x)$ is the error evaluator polynomial, and $\\Lambda'(x)$ is the derivative of the error locator polynomial."
   ]
  },
  {
   "cell_type": "code",
   "execution_count": 377,
   "metadata": {},
   "outputs": [],
   "source": [
    "def find_error_values(error_locator, error_evaluator, error_positions):\n",
    "    numerator = GF_eval(error_evaluator, error_positions, F).astype(int)\n",
    "    L_dash = error_locator[1:] # derivative of error locator polynomial\n",
    "    denominator = GF_eval(L_dash, error_positions, F).astype(int)\n",
    "\n",
    "    error_values = GF_add(F - GF_div(GF_div(numerator, denominator, F), error_positions, F), 0, F)\n",
    "\n",
    "    return error_values"
   ]
  },
  {
   "cell_type": "code",
   "execution_count": 417,
   "metadata": {},
   "outputs": [
    {
     "name": "stdout",
     "output_type": "stream",
     "text": [
      "Error values:  [1]\n"
     ]
    }
   ],
   "source": [
    "error_values = find_error_values(error_locator, error_evaluator, error_positions)\n",
    "print(\"Error values: \", error_values)"
   ]
  },
  {
   "cell_type": "code",
   "execution_count": 418,
   "metadata": {},
   "outputs": [
    {
     "name": "stdout",
     "output_type": "stream",
     "text": [
      "Corrected vector:  [ 2  4  8 10  7  5  0  8 10  0  1]\n"
     ]
    }
   ],
   "source": [
    "corrected_vector = received_vector.copy()\n",
    "corrected_vector[error_positions] = GF_sub(corrected_vector[error_positions], error_values, F)\n",
    "print(\"Corrected vector: \", corrected_vector)"
   ]
  },
  {
   "cell_type": "code",
   "execution_count": 383,
   "metadata": {},
   "outputs": [],
   "source": [
    "def decode(corrected_vector):\n",
    "    # Get the message from the corrected vector\n",
    "    # it is not the first k elements of the corrected vector\n",
    "    # encoding is done by evaluating the polynomial at 'n' evaluation points\n",
    "\n",
    "    decoded_msg = []\n",
    "    for i in range(n):\n",
    "        decoded_msg.append(GF_eval(corrected_vector, eval_points[i], F))\n",
    "    decoded_msg = np.array(decoded_msg[:k])\n",
    "\n",
    "    return decoded_msg"
   ]
  },
  {
   "cell_type": "code",
   "execution_count": 384,
   "metadata": {},
   "outputs": [
    {
     "name": "stdout",
     "output_type": "stream",
     "text": [
      "Original message:  [ 2 10  3  7  5  1  9]\n",
      "Decoded message:  [ 2  0  4  9 10  7  0]\n"
     ]
    }
   ],
   "source": [
    "print(\"Original message: \", msg1)\n",
    "decoded_msg = decode(corrected_vector)\n",
    "print(\"Decoded message: \", decoded_msg)"
   ]
  }
 ],
 "metadata": {
  "kernelspec": {
   "display_name": "Python 3",
   "language": "python",
   "name": "python3"
  },
  "language_info": {
   "codemirror_mode": {
    "name": "ipython",
    "version": 3
   },
   "file_extension": ".py",
   "mimetype": "text/x-python",
   "name": "python",
   "nbconvert_exporter": "python",
   "pygments_lexer": "ipython3",
   "version": "3.10.10"
  },
  "orig_nbformat": 4
 },
 "nbformat": 4,
 "nbformat_minor": 2
}
