{
 "cells": [
  {
   "attachments": {},
   "cell_type": "markdown",
   "metadata": {},
   "source": [
    "### Imports"
   ]
  },
  {
   "cell_type": "code",
   "execution_count": 1,
   "metadata": {},
   "outputs": [],
   "source": [
    "import numpy as np\n",
    "from PIL import Image, ImageDraw"
   ]
  },
  {
   "attachments": {},
   "cell_type": "markdown",
   "metadata": {},
   "source": [
    "### Encoding a message vector using Reed-Solomon codes"
   ]
  },
  {
   "attachments": {},
   "cell_type": "markdown",
   "metadata": {},
   "source": [
    "#### Code parameters"
   ]
  },
  {
   "cell_type": "code",
   "execution_count": 3,
   "metadata": {},
   "outputs": [],
   "source": [
    "F = 11 # Galois Field F11\n",
    "n = 9 # Size of codeword (the encoded message)\n",
    "k = 5 # Size of message (the original message)"
   ]
  },
  {
   "cell_type": "code",
   "execution_count": 6,
   "metadata": {},
   "outputs": [
    {
     "name": "stdout",
     "output_type": "stream",
     "text": [
      "Message:  [ 2 10  3  7  5]\n"
     ]
    }
   ],
   "source": [
    "msg = np.array([2, 10, 3, 7, 5])\n",
    "# msg = np.array([1, 2, 3, 4])\n",
    "print(\"Message: \", msg)"
   ]
  },
  {
   "cell_type": "code",
   "execution_count": 11,
   "metadata": {},
   "outputs": [
    {
     "name": "stdout",
     "output_type": "stream",
     "text": [
      "Encoded Message:  [ 0.  2.  6. 10.  1. 10.  2.  8.  4.]\n",
      "['0000' '0010' '0110' '1010' '0001' '1010' '0010' '1000' '0100']\n",
      "000000100110101000011010001010000100\n"
     ]
    }
   ],
   "source": [
    "eval_points = np.array([1, 2, 3, 4, 5, 6, 7, 8, 9])\n",
    "\n",
    "encoded_msg = np.zeros(n)\n",
    "for i in range(n):\n",
    "    x = eval_points[i]\n",
    "    # encoded_msg[i] = (msg[0] + msg[1] * x + msg[2] * x**2 + msg[3] * pow(x, 3) + msg[4] * pow(x, 4)) % F\n",
    "    encoded_msg[i] = (msg[0] + msg[1] * x + msg[2] * x**2 + msg[3] * pow(x, 3)) % F\n",
    "\n",
    "print(\"Encoded Message: \", encoded_msg)\n",
    "\n",
    "# bin_msg = np.zeros(n, dtype=np.int64)\n",
    "# for i in range(n):\n",
    "#     bin_msg[i] = np.binary_repr(int(encoded_msg[i]), width=4)\n",
    "#     print(\"%04)\n",
    "\n",
    "bin_msg = []\n",
    "for i in range(n):\n",
    "    bin_msg.append('{0:04b}'.format(int(encoded_msg[i])))\n",
    "bin_msg = np.array(bin_msg)\n",
    "\n",
    "print(bin_msg)\n",
    "\n",
    "binary_string = \"\".join(bin_msg)\n",
    "print(binary_string)"
   ]
  },
  {
   "cell_type": "code",
   "execution_count": 66,
   "metadata": {},
   "outputs": [
    {
     "name": "stderr",
     "output_type": "stream",
     "text": [
      "wine: invalid directory \"/home/gokul/.wine\" in WINEPREFIX: not an absolute path\n",
      "/bin/xdg-open: line 880: x-www-browser: command not found\n"
     ]
    }
   ],
   "source": [
    "width, height = len(binary_string), 100\n",
    "img = Image.new(\"RGB\", (width, height), \"white\")\n",
    "\n",
    "draw = ImageDraw.Draw(img)\n",
    "for i, b in enumerate(binary_string):\n",
    "    x0, y0 = i, 0\n",
    "    x1, y1 = i + 1, height\n",
    "    if b == \"1\":\n",
    "        draw.rectangle([x0, y0, x1, y1], fill=\"black\")\n",
    "    else:\n",
    "        draw.rectangle([x0, y0, x1, y1], fill=\"white\")\n",
    "\n",
    "img.show()"
   ]
  },
  {
   "attachments": {},
   "cell_type": "markdown",
   "metadata": {},
   "source": [
    "### Introducing errors"
   ]
  },
  {
   "cell_type": "code",
   "execution_count": 52,
   "metadata": {},
   "outputs": [
    {
     "data": {
      "text/plain": [
       "array([ 0.,  1.,  2., 10.,  1., 10.,  2.,  8.,  4.])"
      ]
     },
     "execution_count": 52,
     "metadata": {},
     "output_type": "execute_result"
    }
   ],
   "source": [
    "received_vector = encoded_msg.copy()\n",
    "received_vector[1] = 1\n",
    "received_vector[2] = 2\n",
    "received_vector"
   ]
  },
  {
   "attachments": {},
   "cell_type": "markdown",
   "metadata": {},
   "source": []
  },
  {
   "cell_type": "markdown",
   "metadata": {},
   "source": [
    "### Decoding"
   ]
  },
  {
   "attachments": {},
   "cell_type": "markdown",
   "metadata": {},
   "source": [
    "#### 1. Calculating the syndromes"
   ]
  },
  {
   "cell_type": "code",
   "execution_count": 9,
   "metadata": {},
   "outputs": [],
   "source": [
    "def mod_inverse(a, m):\n",
    "    \"\"\"\n",
    "    Compute the modular inverse of a modulo m using the extended Euclidean algorithm.\n",
    "    \"\"\"\n",
    "    a = a % m\n",
    "    for x in range(1, m):\n",
    "        if (a*x) % m == 1:\n",
    "            return x\n",
    "    raise ValueError(f\"{a} has no inverse modulo {m}\")\n"
   ]
  },
  {
   "cell_type": "code",
   "execution_count": 18,
   "metadata": {},
   "outputs": [],
   "source": [
    "def calc_syndromes(received_vector, num_errors):\n",
    "    \"\"\"\n",
    "    Calculate the syndromes of the received vector.\n",
    "    \"\"\"\n",
    "    syndromes = np.zeros(num_errors)\n",
    "    for i in range(num_errors):\n",
    "        syndromes[i] = received_vector[i+1]\n",
    "        for j in range(1, k+1):\n",
    "            syndromes[i] += received_vector[i+1+j] * pow(eval_points[i+1], j)\n",
    "        syndromes[i] = syndromes[i] % F\n",
    "    return syndromes"
   ]
  },
  {
   "cell_type": "code",
   "execution_count": 62,
   "metadata": {},
   "outputs": [
    {
     "data": {
      "text/plain": [
       "array([2., 8.])"
      ]
     },
     "execution_count": 62,
     "metadata": {},
     "output_type": "execute_result"
    }
   ],
   "source": [
    "syndromes = calc_syndromes(received_vector, 2)\n",
    "syndromes"
   ]
  },
  {
   "cell_type": "code",
   "execution_count": 63,
   "metadata": {},
   "outputs": [
    {
     "data": {
      "text/plain": [
       "8.0"
      ]
     },
     "execution_count": 63,
     "metadata": {},
     "output_type": "execute_result"
    }
   ],
   "source": [
    "# range(len(syndromes))\n",
    "syndromes[-1]"
   ]
  },
  {
   "cell_type": "code",
   "execution_count": 48,
   "metadata": {},
   "outputs": [],
   "source": [
    "def get_error_locator_poly(received_msg, syndromes):\n",
    "    # # Step 1: Compute syndromes\n",
    "    # syndromes = []\n",
    "    # for i in range(num_errors):\n",
    "    #     s_i = 0\n",
    "    #     for j in range(len(received_msg)):\n",
    "    #         s_i += received_msg[j] * pow(j+1, i, F)\n",
    "    #     syndromes.append(s_i % F)\n",
    "\n",
    "    # Step 2: Find error locator polynomial using Berlekamp-Massey algorithm\n",
    "    b = [1]\n",
    "    c = [1]\n",
    "    L = 0\n",
    "    m = -1\n",
    "    for i in range(len(syndromes)):\n",
    "        d = syndromes[i]\n",
    "        for j in range(1, L+1):\n",
    "            d += b[j] * syndromes[i-j]\n",
    "        if d == 0:\n",
    "            continue\n",
    "        if L > m:\n",
    "            c = b.copy()\n",
    "            m = L\n",
    "        factor = F - pow(int(d * mod_inverse(b[L], F)), 1, F)\n",
    "        while len(b) < len(c) + i - m:\n",
    "            b.append(0)\n",
    "        for j in range(len(c)):\n",
    "            b[i-m+j] += factor * c[j]\n",
    "            b[i-m+j] %= F\n",
    "        L = i+1\n",
    "    \n",
    "    # Reverse the coefficients of the error locator polynomial to get the correct order\n",
    "    error_locator_poly = b[::-1]\n",
    "\n",
    "    return error_locator_poly\n"
   ]
  },
  {
   "cell_type": "code",
   "execution_count": 65,
   "metadata": {},
   "outputs": [
    {
     "ename": "IndexError",
     "evalue": "list index out of range",
     "output_type": "error",
     "traceback": [
      "\u001b[0;31m---------------------------------------------------------------------------\u001b[0m",
      "\u001b[0;31mIndexError\u001b[0m                                Traceback (most recent call last)",
      "Cell \u001b[0;32mIn[65], line 1\u001b[0m\n\u001b[0;32m----> 1\u001b[0m error_locator_poly \u001b[39m=\u001b[39m get_error_locator_poly(received_vector, syndromes)\n\u001b[1;32m      2\u001b[0m error_locator_poly\n",
      "Cell \u001b[0;32mIn[48], line 18\u001b[0m, in \u001b[0;36mget_error_locator_poly\u001b[0;34m(received_msg, syndromes)\u001b[0m\n\u001b[1;32m     16\u001b[0m d \u001b[39m=\u001b[39m syndromes[i]\n\u001b[1;32m     17\u001b[0m \u001b[39mfor\u001b[39;00m j \u001b[39min\u001b[39;00m \u001b[39mrange\u001b[39m(\u001b[39m1\u001b[39m, L\u001b[39m+\u001b[39m\u001b[39m1\u001b[39m):\n\u001b[0;32m---> 18\u001b[0m     d \u001b[39m+\u001b[39m\u001b[39m=\u001b[39m b[j] \u001b[39m*\u001b[39m syndromes[i\u001b[39m-\u001b[39mj]\n\u001b[1;32m     19\u001b[0m \u001b[39mif\u001b[39;00m d \u001b[39m==\u001b[39m \u001b[39m0\u001b[39m:\n\u001b[1;32m     20\u001b[0m     \u001b[39mcontinue\u001b[39;00m\n",
      "\u001b[0;31mIndexError\u001b[0m: list index out of range"
     ]
    }
   ],
   "source": [
    "error_locator_poly = get_error_locator_poly(received_vector, syndromes)\n",
    "error_locator_poly"
   ]
  },
  {
   "cell_type": "code",
   "execution_count": 26,
   "metadata": {},
   "outputs": [],
   "source": [
    "alpha = 2"
   ]
  },
  {
   "cell_type": "code",
   "execution_count": 27,
   "metadata": {},
   "outputs": [],
   "source": [
    "def evaluate_polynomial(poly, x):\n",
    "    y = 0\n",
    "    for i in range(len(poly)):\n",
    "        y = (y * x + poly[-(i+1)]) % F\n",
    "    return y"
   ]
  },
  {
   "cell_type": "code",
   "execution_count": 32,
   "metadata": {},
   "outputs": [],
   "source": [
    "def find_error_positions(error_locator_poly):\n",
    "    \"\"\"\n",
    "    Find the error positions using the error locator polynomial.\n",
    "    \"\"\"\n",
    "    # error_positions = []\n",
    "    # for i in range(1, n+1):\n",
    "    #     if pow(i, len(error_locator_poly)-1, n) == 0:\n",
    "    #         error_positions.append(i)\n",
    "    # return error_positions\n",
    "    error_positions = []\n",
    "    for i in range(1, F+1):\n",
    "        if evaluate_polynomial(error_locator_poly, pow(alpha, i, F)) == 0:\n",
    "            error_positions.append(F-i)\n",
    "    \n",
    "    return error_positions"
   ]
  },
  {
   "cell_type": "code",
   "execution_count": 50,
   "metadata": {},
   "outputs": [
    {
     "data": {
      "text/plain": [
       "[]"
      ]
     },
     "execution_count": 50,
     "metadata": {},
     "output_type": "execute_result"
    }
   ],
   "source": [
    "error_pos = find_error_positions(error_locator_poly)\n",
    "error_pos"
   ]
  },
  {
   "cell_type": "code",
   "execution_count": 35,
   "metadata": {},
   "outputs": [],
   "source": [
    "def find_error_values(error_positions, received_vector):\n",
    "    error_magnitudes = []\n",
    "    for i in range(len(error_positions)):\n",
    "        omega_i = 1\n",
    "        for j in range(len(error_positions)):\n",
    "            if i != j:\n",
    "                omega_i *= (error_positions[i] - error_positions[j]) % F\n",
    "                omega_i %= F\n",
    "        omega_i = mod_inverse(omega_i, F)\n",
    "        error_magnitude_i = 0\n",
    "        for j in range(len(received_vector)):\n",
    "            error_magnitude_i += received_vector[j] * evaluate_polynomial([1], pow(alpha, (F-error_positions[i])*j, F))\n",
    "            error_magnitude_i %= F\n",
    "        error_magnitude_i *= omega_i\n",
    "        error_magnitude_i %= F\n",
    "        error_magnitudes.append(error_magnitude_i)\n",
    "\n",
    "    return error_magnitudes"
   ]
  },
  {
   "cell_type": "code",
   "execution_count": 39,
   "metadata": {},
   "outputs": [],
   "source": [
    "error_values = find_error_values(error_pos, received_vector)"
   ]
  },
  {
   "cell_type": "code",
   "execution_count": 40,
   "metadata": {},
   "outputs": [],
   "source": [
    "def correct_errors(received_vector, error_positions, error_values):\n",
    "    # for i in range(len(error_positions)):\n",
    "    #     received_vector[error_positions[i]] += error_values[i]\n",
    "    #     received_vector[error_positions[i]] %= F\n",
    "    for i in range(len(error_positions)):\n",
    "        received_vector[F-error_positions[i]-1] -= find_error_values[i]\n",
    "        received_vector[F-error_positions[i]-1] %= F\n",
    "\n",
    "    # Return the corrected message\n",
    "    return received_vector"
   ]
  },
  {
   "cell_type": "code",
   "execution_count": 41,
   "metadata": {},
   "outputs": [
    {
     "data": {
      "text/plain": [
       "array([ 1.,  2.,  6., 10.,  1., 10.,  2.,  8.,  4.])"
      ]
     },
     "execution_count": 41,
     "metadata": {},
     "output_type": "execute_result"
    }
   ],
   "source": [
    "correct_errors(received_vector, error_pos, error_values)"
   ]
  }
 ],
 "metadata": {
  "kernelspec": {
   "display_name": "Python 3",
   "language": "python",
   "name": "python3"
  },
  "language_info": {
   "codemirror_mode": {
    "name": "ipython",
    "version": 3
   },
   "file_extension": ".py",
   "mimetype": "text/x-python",
   "name": "python",
   "nbconvert_exporter": "python",
   "pygments_lexer": "ipython3",
   "version": "3.10.10"
  },
  "orig_nbformat": 4
 },
 "nbformat": 4,
 "nbformat_minor": 2
}
